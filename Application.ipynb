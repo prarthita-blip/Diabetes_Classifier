{
 "cells": [
  {
   "cell_type": "code",
   "execution_count": 1,
   "metadata": {},
   "outputs": [
    {
     "name": "stderr",
     "output_type": "stream",
     "text": [
      "usage: ipykernel_launcher.py [-h] [-p PORT]\n",
      "ipykernel_launcher.py: error: unrecognized arguments: -f C:\\Users\\Ranti\\AppData\\Roaming\\jupyter\\runtime\\kernel-706296ed-09dc-415e-9515-a72634d33441.json\n"
     ]
    },
    {
     "ename": "SystemExit",
     "evalue": "2",
     "output_type": "error",
     "traceback": [
      "An exception has occurred, use %tb to see the full traceback.\n",
      "\u001b[1;31mSystemExit\u001b[0m\u001b[1;31m:\u001b[0m 2\n"
     ]
    },
    {
     "name": "stderr",
     "output_type": "stream",
     "text": [
      "C:\\Users\\Ranti\\anaconda3\\lib\\site-packages\\IPython\\core\\interactiveshell.py:3426: UserWarning: To exit: use 'exit', 'quit', or Ctrl-D.\n",
      "  warn(\"To exit: use 'exit', 'quit', or Ctrl-D.\", stacklevel=1)\n"
     ]
    }
   ],
   "source": [
    "from pywebio.platform.flask import webio_view\n",
    "from pywebio import STATIC_PATH\n",
    "from flask import Flask, send_from_directory\n",
    "from pywebio.input import *\n",
    "from pywebio.output import *\n",
    "import argparse\n",
    "from pywebio import start_server\n",
    "\n",
    "import joblib\n",
    "import numpy as np\n",
    "\n",
    "model = joblib.load('diabetes_classifier_model.pkl')\n",
    "scaler=joblib.load('Scaler.pkl')\n",
    "\n",
    "app = Flask(__name__)\n",
    "\n",
    "\n",
    "def bmi_app():\n",
    "    name=input(\"Whats Your name\")\n",
    "    put_text('Hi, welcome to our website', name)\n",
    "    \n",
    "    \n",
    "    preg=input('How many pregnancies did you have?(0 if you are male)', type=NUMBER)\n",
    "    glucose=input('What is your Fasting Glucose level?',  type=NUMBER)\n",
    "    bp=input('What is your Blood Pressure?', type=NUMBER)\n",
    "    age=input('What is your age?',type=NUMBER)\n",
    "    weight=input('What is your weight?(In Kilograms)',type=NUMBER)\n",
    "    height=input('What is your height?(In centimeters)',type=NUMBER)\n",
    "    history=select('Does any of your parent have diabetes?', ['YES', 'NO'])\n",
    "    if history=='YES':\n",
    "        history=1\n",
    "    else:\n",
    "        history=0\n",
    "        \n",
    "    bmi=weight/(height/100)**2\n",
    "    \n",
    "    prediction=model.predict(scaler.transform([[preg,glucose,bp,bmi,age,history]]))\n",
    "    \n",
    "    if prediction[0]==1:\n",
    "        put_text(\"You have risk of getting Type 2 Diabetes\")\n",
    "    else:\n",
    "        put_text(\"You do not have risk of getting Type 2 Diabetes\")\n",
    "        \n",
    "    \n",
    "    \n",
    "    \n",
    "        \n",
    "app.add_url_rule('/tool', 'webio_view', webio_view(bmi_app),\n",
    "            methods=['GET', 'POST', 'OPTIONS'])\n",
    "\n",
    "\n",
    "if __name__ == '__main__':\n",
    "    parser = argparse.ArgumentParser()\n",
    "    parser.add_argument(\"-p\", \"--port\", type=int, default=8080)\n",
    "    args = parser.parse_args()\n",
    "\n",
    "    start_server(bmi_app, port=args.port)"
   ]
  },
  {
   "cell_type": "code",
   "execution_count": null,
   "metadata": {},
   "outputs": [],
   "source": []
  }
 ],
 "metadata": {
  "kernelspec": {
   "display_name": "Python 3",
   "language": "python",
   "name": "python3"
  },
  "language_info": {
   "codemirror_mode": {
    "name": "ipython",
    "version": 3
   },
   "file_extension": ".py",
   "mimetype": "text/x-python",
   "name": "python",
   "nbconvert_exporter": "python",
   "pygments_lexer": "ipython3",
   "version": "3.8.5"
  }
 },
 "nbformat": 4,
 "nbformat_minor": 4
}
